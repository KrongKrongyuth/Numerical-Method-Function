{
 "cells": [
  {
   "cell_type": "code",
   "execution_count": 13,
   "metadata": {},
   "outputs": [],
   "source": [
    "import Numerical as numer\n",
    "import sympy as smp\n",
    "x = smp.symbols('x', real = True)"
   ]
  },
  {
   "cell_type": "code",
   "execution_count": 75,
   "metadata": {},
   "outputs": [
    {
     "data": {
      "text/latex": [
       "$\\displaystyle 17.8771424999999$"
      ],
      "text/plain": [
       "17.8771424999999"
      ]
     },
     "execution_count": 75,
     "metadata": {},
     "output_type": "execute_result"
    }
   ],
   "source": [
    "## 1 ##\n",
    "\n",
    "fx_0 = 16.94410\n",
    "fx_1 = 17.56492\n",
    "fx_2 = 18.50515\n",
    "fx_3 = 18.82091\n",
    "\n",
    "p_0 = (-50*((x-8.3)*(x-8.6)*(x-8.7))/3)\n",
    "p_1 = (125*((x-8.1)*(x-8.6)*(x-8.7))/3)\n",
    "p_2 = (-200*((x-8.1)*(x-8.3)*(x-8.7))/3)\n",
    "p_3 = (125*((x-8.1)*(x-8.3)*(x-8.6))/3)\n",
    "\n",
    "p_n = (fx_0*p_0) + (fx_1*p_1) + (fx_2*p_2) + (fx_3*p_3)\n",
    "p_n\n",
    "\n",
    "nu = numer.Numerical_Function(p_n)\n",
    "nu.evaluate_function(x_value = 8.4)"
   ]
  },
  {
   "cell_type": "code",
   "execution_count": 76,
   "metadata": {},
   "outputs": [
    {
     "data": {
      "text/latex": [
       "$\\displaystyle 19.3689956$"
      ],
      "text/plain": [
       "19.3689956000000"
      ]
     },
     "execution_count": 76,
     "metadata": {},
     "output_type": "execute_result"
    }
   ],
   "source": [
    "## 2 ##\n",
    "\n",
    "p_0 = 14.2\n",
    "p_1 = (x-1)*2.118\n",
    "p_2 = (x-1)*(x-2.7)*2.8544\n",
    "p_3 = (x-1)*(x-2.7)*(x-3.2)*(-0.5274)\n",
    "p_n = p_0 + p_1 + p_2 + p_3\n",
    "p_n\n",
    "\n",
    "nu.evaluate_function(function = p_n, x_value = 2.9)"
   ]
  },
  {
   "cell_type": "code",
   "execution_count": 105,
   "metadata": {},
   "outputs": [
    {
     "data": {
      "text/plain": [
       "{'a1': 1,\n",
       " 'b1': 3/2,\n",
       " 'c1': -3/4,\n",
       " 'd1': 1/4,\n",
       " 'a2': 5,\n",
       " 'b2': -9/2,\n",
       " 'c2': 9/4,\n",
       " 'd2': -1/4}"
      ]
     },
     "execution_count": 105,
     "metadata": {},
     "output_type": "execute_result"
    }
   ],
   "source": [
    "## 3 ##\n",
    "a = smp.Matrix([[1, 1, 1, 1, 0, 0, 0, 0],\n",
    "                [1, 2, 4, 8, 0, 0, 0, 0],\n",
    "                [0, 0, 0, 0, 1, 2, 4, 8],\n",
    "                [0, 0, 0, 0, 1, 3, 9, 27],\n",
    "                [0, 1, 4, 12, 0, -1, -4, -12],\n",
    "                [0, 0, 2, 12, 0, 0, -2, -12],\n",
    "                [0, 0, 2, 6, 0, 0, 0, 0],\n",
    "                [0, 0, 0, 0, 0, 0, 2, 18]])\n",
    "b = smp.Matrix([2, 3, 3, 5, 0, 0, 0, 0])\n",
    "a_inverse = a.inv()\n",
    "result = a_inverse * b\n",
    "result_dict = {\"a1\" : [],\n",
    "               \"b1\" : [],\n",
    "               \"c1\" : [],\n",
    "               \"d1\" : [],\n",
    "               \"a2\" : [],\n",
    "               \"b2\" : [],\n",
    "               \"c2\" : [],\n",
    "               \"d2\" : []}\n",
    "key_list = list(result_dict.keys())\n",
    "for i in range(len(result)) :\n",
    "    result_dict[key_list[i]] = result[i]\n",
    "result_dict"
   ]
  },
  {
   "cell_type": "code",
   "execution_count": null,
   "metadata": {},
   "outputs": [],
   "source": []
  }
 ],
 "metadata": {
  "kernelspec": {
   "display_name": "tensorflow",
   "language": "python",
   "name": "python3"
  },
  "language_info": {
   "codemirror_mode": {
    "name": "ipython",
    "version": 3
   },
   "file_extension": ".py",
   "mimetype": "text/x-python",
   "name": "python",
   "nbconvert_exporter": "python",
   "pygments_lexer": "ipython3",
   "version": "3.10.0"
  },
  "orig_nbformat": 4
 },
 "nbformat": 4,
 "nbformat_minor": 2
}
